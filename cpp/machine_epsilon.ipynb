{
 "cells": [
  {
   "cell_type": "code",
   "execution_count": 1,
   "metadata": {},
   "outputs": [],
   "source": [
    "#include <iostream>\n",
    "\n",
    "template <typename T>\n",
    "    T compute_minimum_significant_difference(T i_origin) {\n",
    "    const auto ORIGIN = i_origin;\n",
    "    static const auto HALF = static_cast<T>(0.5);\n",
    "    \n",
    "    auto minimum_significant_difference = HALF;\n",
    "    while ((ORIGIN + HALF*minimum_significant_difference) != ORIGIN) {\n",
    "        minimum_significant_difference *= HALF;\n",
    "    }\n",
    "    return minimum_significant_difference;\n",
    "    }\n",
    "template <typename T>\n",
    "    T machine_epsilon() {\n",
    "    return compute_minimum_significant_difference<T>(1.0);\n",
    "} \n",
    "\n",
    "template <typename T>\n",
    "    T machine_minimum() {\n",
    "    return compute_minimum_significant_difference<T>(0.0);\n",
    "} \n",
    "    "
   ]
  },
  {
   "cell_type": "code",
   "execution_count": null,
   "metadata": {},
   "outputs": [],
   "source": []
  },
  {
   "cell_type": "code",
   "execution_count": 2,
   "metadata": {
    "scrolled": true
   },
   "outputs": [
    {
     "name": "stdout",
     "output_type": "stream",
     "text": [
      "1.19209e-07\n",
      "2.22045e-16\n",
      "1.0842e-19\n"
     ]
    }
   ],
   "source": [
    "std::cout << machine_epsilon<float>() << std::endl;\n",
    "std::cout << machine_epsilon<double>() << std::endl;\n",
    "std::cout << machine_epsilon<long double>() << std::endl; "
   ]
  },
  {
   "cell_type": "code",
   "execution_count": 3,
   "metadata": {},
   "outputs": [
    {
     "name": "stdout",
     "output_type": "stream",
     "text": [
      "1.4013e-45\n",
      "4.94066e-324\n",
      "3.6452e-4951\n"
     ]
    }
   ],
   "source": [
    "std::cout << machine_minimum<float>() << std::endl;\n",
    "std::cout << machine_minimum<double>() << std::endl;\n",
    "std::cout << machine_minimum<long double>() << std::endl;"
   ]
  },
  {
   "cell_type": "code",
   "execution_count": null,
   "metadata": {},
   "outputs": [],
   "source": []
  },
  {
   "cell_type": "code",
   "execution_count": null,
   "metadata": {},
   "outputs": [],
   "source": []
  }
 ],
 "metadata": {
  "kernelspec": {
   "display_name": "xeus C++14",
   "language": "",
   "name": "xeus-cling-cpp14"
  },
  "language_info": {
   "codemirror_mode": "text/x-c++src",
   "file_extension": ".cpp",
   "mimetype": "text/x-c++src",
   "name": "c++",
   "version": ""
  }
 },
 "nbformat": 4,
 "nbformat_minor": 1
}
